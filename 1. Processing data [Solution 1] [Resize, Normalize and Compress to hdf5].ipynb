{
 "cells": [
  {
   "cell_type": "code",
   "execution_count": null,
   "metadata": {},
   "outputs": [],
   "source": [
    "import os\n",
    "import re\n",
    "import cv2\n",
    "import h5py\n",
    "import keras\n",
    "import random\n",
    "import numpy as np # linear algebra\n",
    "import splitfolders  # or import split_folders\n",
    "import pandas as pd # data processing, CSV file I/O (e.g. pd.read_csv)\n",
    "import seaborn as sns\n",
    "import tensorflow as tf\n",
    "from tqdm.notebook import tqdm"
   ]
  },
  {
   "cell_type": "code",
   "execution_count": null,
   "metadata": {},
   "outputs": [],
   "source": [
    "LIST_SIZE   = [224] #[128, 160, 192, 224, 256]\n",
    "IMG_SIZE    = 224\n",
    "ROOT_PATH   = r'E:\\HK7\\Tieu_Luan_Chuyen_Nganh\\Interior Design\\'\n",
    "NAME_FOLDER = r'SkinCancer_Data' #r'Interior Design'\n",
    "FLOATX_R    = r'float32' #float16, float32, float64(default)\n",
    "FLOATX_R    = r'float64' if (FLOATX_R == r'default') else FLOATX_R\n",
    "LABELS      = os.listdir(ROOT_PATH)\n",
    "LABELS.sort()\n",
    "DATA_PATH = os.path.join(os.getcwd(), NAME_FOLDER)\n",
    "OUTPUT_PATH = os.path.join(os.getcwd(), str(IMG_SIZE) + r'x' + str(IMG_SIZE))\n",
    "PREFIX_OUT  = \"[{size}][{floatx}]_\".format(size = str(IMG_SIZE) + r'x' + str(IMG_SIZE), \n",
    "                                          floatx = FLOATX_R)\n",
    "SIZE_PADDING = 60"
   ]
  },
  {
   "cell_type": "code",
   "execution_count": null,
   "metadata": {},
   "outputs": [],
   "source": [
    "print(LABELS)"
   ]
  },
  {
   "cell_type": "code",
   "execution_count": null,
   "metadata": {},
   "outputs": [],
   "source": [
    "print(r' SPLIT FOLDER ROOT'.rjust(SIZE_PADDING, '='))\n",
    "\n",
    "if not os.path.exists(DATA_PATH):\n",
    "    # Split with a ratio.\n",
    "    # To only split into training and validation set, set a tuple to `ratio`, i.e, `(.8, .2)`.\n",
    "    splitfolders.ratio(ROOT_PATH, output=NAME_FOLDER, seed=1337, ratio=(0.8, 0.2), group_prefix=None) # default values\n",
    "    print(r'Folder already create...!')\n",
    "else: print(r'Folder already exists...!')\n",
    "print(r'Done')"
   ]
  },
  {
   "cell_type": "code",
   "execution_count": null,
   "metadata": {},
   "outputs": [],
   "source": [
    "print(r' DEFINE FUNCTION CHECK THE DIRECTORY CONTAINING THE OUTPUT'.rjust(SIZE_PADDING, '='))\n",
    "def check_output_folder(OUTPUT_PATH):\n",
    "    if not os.path.exists(OUTPUT_PATH):\n",
    "        os.mkdir(OUTPUT_PATH)\n",
    "        print(r'The directory containing the output already create : ' + OUTPUT_PATH)\n",
    "    else: print(r'The directory containing the output already exists : ' + OUTPUT_PATH)\n",
    "print(r'Done')\n",
    "print(OUTPUT_PATH)"
   ]
  },
  {
   "cell_type": "code",
   "execution_count": null,
   "metadata": {},
   "outputs": [],
   "source": [
    "print(r' DEFINE FUNCTION GET DATA'.rjust(SIZE_PADDING, '='))\n",
    "def get_data(data_dir):\n",
    "    print(r'Start get the file...')\n",
    "    data = []\n",
    "    for label in tqdm(LABELS, desc='Labels'): \n",
    "        path = os.path.join(data_dir, label)\n",
    "        class_num = LABELS.index(label)\n",
    "        listfile = os.listdir(path)\n",
    "        desc = label.rjust(15, '_') + ' : '\n",
    "        for img in tqdm(listfile, desc=desc, leave=False):\n",
    "            try:\n",
    "                img_arr = cv2.imread(os.path.join(path, img), cv2.IMREAD_COLOR)\n",
    "                resized_arr = cv2.resize(img_arr, (IMG_SIZE, IMG_SIZE)) # Reshaping images to preferred size\n",
    "                data.append([resized_arr, class_num])\n",
    "            except Exception as e:\n",
    "                print(e)\n",
    "                print(os.path.join(path, img))\n",
    "    print('Get data successfully!')\n",
    "    return np.array(data)\n",
    "print(r'Done')"
   ]
  },
  {
   "cell_type": "code",
   "execution_count": null,
   "metadata": {},
   "outputs": [],
   "source": [
    "print(r' DEFINE FUNCTION GENERGATE DATA'.rjust(SIZE_PADDING, '='))\n",
    "def gen_data(data, filename):\n",
    "    print(r'Start creating the file...')\n",
    "    x = []\n",
    "    y = []\n",
    "    \n",
    "    for feature, label in tqdm(data, desc='Labels'):\n",
    "        x.append(feature)\n",
    "        y.append(label)\n",
    "    \n",
    "    x = np.array(x, dtype=FLOATX_R) / 255\n",
    "\n",
    "    #Reshaping the data from 1-D to 3-D as required through input by CNN's \n",
    "    x = x.reshape(-1, IMG_SIZE, IMG_SIZE, 3)\n",
    "    y = np.array(y)\n",
    "\n",
    "    #Assign dtype\n",
    "    x = x.astype(FLOATX_R)\n",
    "    y = y.astype(FLOATX_R)\n",
    "\n",
    "    if os.path.exists(filename):\n",
    "        os.remove(filename)\n",
    "        print('Removed file old : ', filename)\n",
    "    \n",
    "    hf = h5py.File(filename, 'a')\n",
    "    hf.create_dataset('x', data=x)\n",
    "    hf.create_dataset('y', data=y)\n",
    "    hf.close()\n",
    "\n",
    "    del x,y,data,hf\n",
    "    print(r'Successful file creation!')\n",
    "print(r'Done')"
   ]
  },
  {
   "cell_type": "code",
   "execution_count": null,
   "metadata": {},
   "outputs": [],
   "source": [
    "print(r' DEFINE FUNCTION GET & GENERATE LABELS'.rjust(SIZE_PADDING, '='))\n",
    "def save_file_labels(LABELS):\n",
    "    print(r'Start creating the file...')\n",
    "    LABELS_SAVE = np.array(LABELS)\n",
    "    LABELS_PATH = os.path.join(OUTPUT_PATH, PREFIX_OUT + r'Labels.npy')\n",
    "    if not os.path.exists(LABELS_PATH):\n",
    "        np.save(LABELS_PATH, LABELS_SAVE)\n",
    "        print(r'File labels already create : ' + LABELS_PATH)\n",
    "    else: print(r'File labels already exist : ' + LABELS_PATH)\n",
    "print(r'Done')"
   ]
  },
  {
   "cell_type": "code",
   "execution_count": null,
   "metadata": {
    "scrolled": false
   },
   "outputs": [],
   "source": [
    "print(r' PROCESSING LOAD DATA'.rjust(SIZE_PADDING, '='))\n",
    "\n",
    "for size in LIST_SIZE:\n",
    "    IMG_SIZE = size\n",
    "    DATA_PATH = os.path.join(os.getcwd(), NAME_FOLDER)\n",
    "    OUTPUT_PATH = os.path.join(os.getcwd(), str(IMG_SIZE) + r'x' + str(IMG_SIZE))\n",
    "    PREFIX_OUT  = \"[{size}][{floatx}]_\".format(size = str(IMG_SIZE) + r'x' + str(IMG_SIZE), \n",
    "                                              floatx = FLOATX_R)\n",
    "    print('\\n')\n",
    "    check_output_folder(OUTPUT_PATH)\n",
    "    print(\" [{size}][{floatx}]\".format(size = str(IMG_SIZE) + r'x' + str(IMG_SIZE), floatx = FLOATX_R).rjust(SIZE_PADDING, '='))\n",
    "    for item in os.listdir(DATA_PATH):\n",
    "        path = os.path.join(DATA_PATH, item)\n",
    "        filename = PREFIX_OUT + item.title() + r'.h5'\n",
    "        filename = os.path.join(OUTPUT_PATH, filename)\n",
    "        data = get_data(path)\n",
    "        gen_data(data, filename)\n",
    "        save_file_labels(LABELS)\n",
    "        print(r''.rjust(SIZE_PADDING, '='))\n",
    "\n",
    "print(r'Done')"
   ]
  }
 ],
 "metadata": {
  "kernelspec": {
   "display_name": "Python 3 (ipykernel)",
   "language": "python",
   "name": "python3"
  },
  "language_info": {
   "codemirror_mode": {
    "name": "ipython",
    "version": 3
   },
   "file_extension": ".py",
   "mimetype": "text/x-python",
   "name": "python",
   "nbconvert_exporter": "python",
   "pygments_lexer": "ipython3",
   "version": "3.8.8"
  }
 },
 "nbformat": 4,
 "nbformat_minor": 4
}
